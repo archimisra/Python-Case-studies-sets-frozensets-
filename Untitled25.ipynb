{
  "nbformat": 4,
  "nbformat_minor": 0,
  "metadata": {
    "colab": {
      "provenance": [],
      "authorship_tag": "ABX9TyNhD779UAOleodhY3c8QGIM",
      "include_colab_link": true
    },
    "kernelspec": {
      "name": "python3",
      "display_name": "Python 3"
    },
    "language_info": {
      "name": "python"
    }
  },
  "cells": [
    {
      "cell_type": "markdown",
      "metadata": {
        "id": "view-in-github",
        "colab_type": "text"
      },
      "source": [
        "<a href=\"https://colab.research.google.com/github/archimisra/Python-Case-studies-sets-frozensets-/blob/main/Untitled25.ipynb\" target=\"_parent\"><img src=\"https://colab.research.google.com/assets/colab-badge.svg\" alt=\"Open In Colab\"/></a>"
      ]
    },
    {
      "cell_type": "code",
      "execution_count": 1,
      "metadata": {
        "colab": {
          "base_uri": "https://localhost:8080/"
        },
        "id": "3I2oJ9cKZdo7",
        "outputId": "706c9072-9a8f-4495-e8ad-ed945c160b77"
      },
      "outputs": [
        {
          "output_type": "stream",
          "name": "stdout",
          "text": [
            "Books still issued: {'Python Basics', 'Data Science'}\n",
            "Returned but not issued: {'Cloud Computing'}\n",
            "All books ever seen: {'Cyber Ethics', 'Python Basics', 'Data Science', 'AI Fundamentals', 'Cloud Computing'}\n",
            "Frozen archival record: frozenset({'Cyber Ethics', 'Python Basics', 'Data Science', 'AI Fundamentals', 'Cloud Computing'})\n"
          ]
        }
      ],
      "source": [
        "#CASE STUDY 1 — Library Management System\n",
        "# Given sets\n",
        "issued_books = {\"Python Basics\", \"AI Fundamentals\", \"Data Science\", \"Cyber Ethics\"}\n",
        "returned_books = {\"AI Fundamentals\", \"Cyber Ethics\", \"Cloud Computing\"}\n",
        "\n",
        "# 1. Books still issued (not yet returned)\n",
        "still_issued = issued_books - returned_books\n",
        "print(\"Books still issued:\", still_issued)\n",
        "\n",
        "# 2. Returned but never issued (system error)\n",
        "not_in_issued = returned_books - issued_books\n",
        "print(\"Returned but not issued:\", not_in_issued)\n",
        "\n",
        "# 3. Complete record of all books ever seen\n",
        "all_books = issued_books | returned_books\n",
        "print(\"All books ever seen:\", all_books)\n",
        "\n",
        "# 4. Freeze the final record for archival\n",
        "archival_record = frozenset(all_books)\n",
        "print(\"Frozen archival record:\", archival_record)\n"
      ]
    },
    {
      "cell_type": "code",
      "source": [
        "#CASE STUDY 1 — Library Management System\n",
        "# Given sets\n",
        "coding_club = {\"Riya\", \"Karan\", \"Sia\", \"Tanya\"}\n",
        "robotics_club = {\"Sia\", \"Arjun\", \"Karan\", \"Rohit\"}\n",
        "\n",
        "# 1. Students in both clubs (intersection)\n",
        "dual_members = coding_club & robotics_club\n",
        "print(\"Students in both clubs:\", dual_members)\n",
        "\n",
        "# 2. Students only in Coding Club (difference)\n",
        "only_coding = coding_club - robotics_club\n",
        "print(\"Students only in Coding Club:\", only_coding)\n",
        "\n",
        "# 3. Students in either but not both (symmetric difference)\n",
        "either_but_not_both = coding_club ^ robotics_club\n",
        "print(\"Students in either but not both:\", either_but_not_both)\n",
        "\n",
        "# 4. Store frozen record of dual-membership students in a dictionary\n",
        "dual_members_record = {frozenset(dual_members): \"Dual Member\"}\n",
        "print(\"Frozen dual-member record:\", dual_members_record)\n"
      ],
      "metadata": {
        "colab": {
          "base_uri": "https://localhost:8080/"
        },
        "id": "91VHVTHAdrJc",
        "outputId": "357ef797-2317-4c48-f0ac-15b36539fb95"
      },
      "execution_count": 2,
      "outputs": [
        {
          "output_type": "stream",
          "name": "stdout",
          "text": [
            "Students in both clubs: {'Sia', 'Karan'}\n",
            "Students only in Coding Club: {'Riya', 'Tanya'}\n",
            "Students in either but not both: {'Tanya', 'Arjun', 'Rohit', 'Riya'}\n",
            "Frozen dual-member record: {frozenset({'Sia', 'Karan'}): 'Dual Member'}\n"
          ]
        }
      ]
    },
    {
      "cell_type": "code",
      "source": [
        "#CASE STUDY 3 — Event Attendance Analytics\n",
        "# Given sets\n",
        "ai_talk = {\"Aman\", \"Riya\", \"Vivek\", \"Simran\"}\n",
        "ml_workshop = {\"Riya\", \"Vivek\", \"Neha\"}\n",
        "iot_expo = {\"Simran\", \"Riya\", \"Ankit\"}\n",
        "\n",
        "# 1. Students who attended all three events (intersection of all)\n",
        "all_three = ai_talk & ml_workshop & iot_expo\n",
        "print(\"Attended all three events:\", all_three)\n",
        "\n",
        "# 2. Students who attended exactly one event\n",
        "only_ai = ai_talk - (ml_workshop | iot_expo)\n",
        "only_ml = ml_workshop - (ai_talk | iot_expo)\n",
        "only_iot = iot_expo - (ai_talk | ml_workshop)\n",
        "exactly_one = only_ai | only_ml | only_iot\n",
        "print(\"Attended exactly one event:\", exactly_one)\n",
        "\n",
        "# 3. Students who attended at least two events\n",
        "at_least_two = ((ai_talk & ml_workshop) |\n",
        "                (ml_workshop & iot_expo) |\n",
        "                (iot_expo & ai_talk))\n",
        "print(\"Attended at least two events:\", at_least_two)\n"
      ],
      "metadata": {
        "colab": {
          "base_uri": "https://localhost:8080/"
        },
        "id": "RLxB7KnIeeml",
        "outputId": "fa81369d-6d59-4fd7-e60b-665a80ab49a2"
      },
      "execution_count": 3,
      "outputs": [
        {
          "output_type": "stream",
          "name": "stdout",
          "text": [
            "Attended all three events: {'Riya'}\n",
            "Attended exactly one event: {'Ankit', 'Neha', 'Aman'}\n",
            "Attended at least two events: {'Riya', 'Simran', 'Vivek'}\n"
          ]
        }
      ]
    },
    {
      "cell_type": "code",
      "source": [
        "#CASE STUDY 4 — Online Course Enrollment\n",
        "# Given sets\n",
        "python_course = {\"S1\", \"S2\", \"S3\", \"S4\", \"S5\"}\n",
        "java_course = {\"S3\", \"S5\", \"S6\"}\n",
        "ml_course = {\"S1\", \"S5\", \"S7\"}\n",
        "\n",
        "# 1. Students enrolled in more than one course\n",
        "multi_course = ((python_course & java_course) |\n",
        "                (java_course & ml_course) |\n",
        "                (ml_course & python_course))\n",
        "print(\"Students in more than one course:\", multi_course)\n",
        "\n",
        "# 2. Students enrolled only in Python\n",
        "only_python = python_course - (java_course | ml_course)\n",
        "print(\"Students only in Python:\", only_python)\n",
        "\n",
        "# 3. Master list of all students across courses\n",
        "all_students = python_course | java_course | ml_course\n",
        "print(\"All students (master list):\", all_students)\n",
        "\n",
        "# 4. Convert to frozenset for reporting integrity\n",
        "final_record = frozenset(all_students)\n",
        "print(\"Frozen master record:\", final_record)\n"
      ],
      "metadata": {
        "colab": {
          "base_uri": "https://localhost:8080/"
        },
        "id": "2_SszU05fO34",
        "outputId": "0db0c87a-c243-4a7e-a018-80d46345913d"
      },
      "execution_count": 4,
      "outputs": [
        {
          "output_type": "stream",
          "name": "stdout",
          "text": [
            "Students in more than one course: {'S3', 'S5', 'S1'}\n",
            "Students only in Python: {'S4', 'S2'}\n",
            "All students (master list): {'S4', 'S2', 'S5', 'S1', 'S6', 'S3', 'S7'}\n",
            "Frozen master record: frozenset({'S4', 'S7', 'S2', 'S3', 'S5', 'S1', 'S6'})\n"
          ]
        }
      ]
    },
    {
      "cell_type": "code",
      "source": [
        "#CASE STUDY 5 — University Placement Drive\n",
        "# Given sets\n",
        "infosys = {\"Ravi\", \"Neha\", \"Tanya\", \"Ankur\"}\n",
        "tcs = {\"Neha\", \"Tanya\", \"Kunal\", \"Isha\"}\n",
        "wipro = {\"Ravi\", \"Isha\", \"Tanya\"}\n",
        "\n",
        "# 1. Students who sat for all companies\n",
        "all_three = infosys & tcs & wipro\n",
        "print(\"Students in all companies:\", all_three)\n",
        "\n",
        "# 2. Students who appeared for exactly one company\n",
        "only_infosys = infosys - (tcs | wipro)\n",
        "only_tcs = tcs - (infosys | wipro)\n",
        "only_wipro = wipro - (infosys | tcs)\n",
        "exactly_one = only_infosys | only_tcs | only_wipro\n",
        "print(\"Students in exactly one company:\", exactly_one)\n",
        "\n",
        "# 3. Students who appeared for at least two companies\n",
        "at_least_two = ((infosys & tcs) | (tcs & wipro) | (wipro & infosys))\n",
        "print(\"Students in at least two companies:\", at_least_two)\n",
        "\n",
        "# 4. Store results in a dictionary with frozenset keys\n",
        "results = {\n",
        "    frozenset(all_three): \"All Company Participants\",\n",
        "    frozenset(exactly_one): \"Single Company Participants\",\n",
        "    frozenset(at_least_two): \"Top Participants\"\n",
        "}\n",
        "\n",
        "print(\"Result dictionary:\", results)\n"
      ],
      "metadata": {
        "colab": {
          "base_uri": "https://localhost:8080/"
        },
        "id": "NS11qQDggk54",
        "outputId": "47b5dd84-8606-4d1e-b8de-906bdd26a6f2"
      },
      "execution_count": 5,
      "outputs": [
        {
          "output_type": "stream",
          "name": "stdout",
          "text": [
            "Students in all companies: {'Tanya'}\n",
            "Students in exactly one company: {'Ankur', 'Kunal'}\n",
            "Students in at least two companies: {'Neha', 'Isha', 'Tanya', 'Ravi'}\n",
            "Result dictionary: {frozenset({'Tanya'}): 'All Company Participants', frozenset({'Ankur', 'Kunal'}): 'Single Company Participants', frozenset({'Neha', 'Ravi', 'Isha', 'Tanya'}): 'Top Participants'}\n"
          ]
        }
      ]
    },
    {
      "cell_type": "code",
      "source": [
        "#CASE STUDY 6 — Data Cleaning with Sets\n",
        "# Given data\n",
        "raw_ids = [\"S01\", \"S02\", \"S03\", \"S02\", \"S04\", \"S05\", \"S03\", \"S06\", \"S05\"]\n",
        "valid_ids = {\"S01\", \"S02\", \"S03\", \"S04\", \"S05\", \"S06\", \"S07\"}\n",
        "\n",
        "# 1. Find duplicate IDs in raw_ids\n",
        "duplicates = {id for id in raw_ids if raw_ids.count(id) > 1}\n",
        "print(\"Duplicate IDs:\", duplicates)\n",
        "\n",
        "# 2. Find invalid IDs (not in valid list)\n",
        "invalid_ids = set(raw_ids) - valid_ids\n",
        "print(\"Invalid IDs:\", invalid_ids)\n",
        "\n",
        "# 3. Cleaned list (remove duplicates + invalids)\n",
        "cleaned_ids = set(raw_ids) & valid_ids\n",
        "\n",
        "# Convert to frozenset for integrity\n",
        "final_record = frozenset(cleaned_ids)\n",
        "print(\"Frozen cleaned record:\", final_record)\n"
      ],
      "metadata": {
        "colab": {
          "base_uri": "https://localhost:8080/"
        },
        "id": "8a5LQOESh9j6",
        "outputId": "59431ba0-e970-40a8-9980-f698e8b29a42"
      },
      "execution_count": 6,
      "outputs": [
        {
          "output_type": "stream",
          "name": "stdout",
          "text": [
            "Duplicate IDs: {'S03', 'S02', 'S05'}\n",
            "Invalid IDs: set()\n",
            "Frozen cleaned record: frozenset({'S01', 'S06', 'S02', 'S03', 'S04', 'S05'})\n"
          ]
        }
      ]
    },
    {
      "cell_type": "code",
      "source": [
        "#CASE STUDY 7 — Cybersecurity: Login Analysis\n",
        "# Given sets\n",
        "successful_logins = {\"Amit\", \"Priya\", \"John\", \"Meena\"}\n",
        "failed_logins = {\"John\", \"Rita\", \"Amit\", \"Suresh\"}\n",
        "\n",
        "# 1. Users with only successful logins\n",
        "only_success = successful_logins - failed_logins\n",
        "print(\"Only successful logins:\", only_success)\n",
        "\n",
        "# 2. Users with only failed attempts\n",
        "only_failed = failed_logins - successful_logins\n",
        "print(\"Only failed attempts:\", only_failed)\n",
        "\n",
        "# 3. Suspicious users (appear in both)\n",
        "suspicious = successful_logins & failed_logins\n",
        "print(\"Suspicious users:\", suspicious)\n",
        "\n",
        "# 4. Freeze suspicious list as immutable frozenset\n",
        "frozen_suspicious = frozenset(suspicious)\n",
        "print(\"Frozen suspicious list:\", frozen_suspicious)\n"
      ],
      "metadata": {
        "colab": {
          "base_uri": "https://localhost:8080/"
        },
        "id": "Q226l6AMjxcK",
        "outputId": "8b34bdc3-d8db-49a5-8df5-a90e4cd95c86"
      },
      "execution_count": 7,
      "outputs": [
        {
          "output_type": "stream",
          "name": "stdout",
          "text": [
            "Only successful logins: {'Priya', 'Meena'}\n",
            "Only failed attempts: {'Rita', 'Suresh'}\n",
            "Suspicious users: {'Amit', 'John'}\n",
            "Frozen suspicious list: frozenset({'Amit', 'John'})\n"
          ]
        }
      ]
    },
    {
      "cell_type": "code",
      "source": [],
      "metadata": {
        "id": "IvI3wI5SkMnL"
      },
      "execution_count": null,
      "outputs": []
    }
  ]
}